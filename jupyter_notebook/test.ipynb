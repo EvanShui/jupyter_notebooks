{
 "cells": [
  {
   "cell_type": "code",
   "execution_count": 1,
   "metadata": {},
   "outputs": [
    {
     "ename": "AttributeError",
     "evalue": "'Button' object has no attribute 'js_on_click'",
     "output_type": "error",
     "traceback": [
      "\u001b[1;31m---------------------------------------------------------------------------\u001b[0m",
      "\u001b[1;31mAttributeError\u001b[0m                            Traceback (most recent call last)",
      "\u001b[1;32m<ipython-input-1-48290f1d592d>\u001b[0m in \u001b[0;36m<module>\u001b[1;34m()\u001b[0m\n\u001b[0;32m     12\u001b[0m \u001b[0mbutton\u001b[0m \u001b[1;33m=\u001b[0m \u001b[0mButton\u001b[0m\u001b[1;33m(\u001b[0m\u001b[0mlabel\u001b[0m\u001b[1;33m=\u001b[0m\u001b[1;34m\"Button (enabled) - has click event\"\u001b[0m\u001b[1;33m,\u001b[0m \u001b[0mbutton_type\u001b[0m\u001b[1;33m=\u001b[0m\u001b[1;34m\"primary\"\u001b[0m\u001b[1;33m)\u001b[0m\u001b[1;33m\u001b[0m\u001b[0m\n\u001b[0;32m     13\u001b[0m \u001b[0mbutton\u001b[0m\u001b[1;33m.\u001b[0m\u001b[0mon_click\u001b[0m\u001b[1;33m(\u001b[0m\u001b[1;32mlambda\u001b[0m\u001b[1;33m:\u001b[0m \u001b[0mprint\u001b[0m\u001b[1;33m(\u001b[0m\u001b[1;34m'button: click'\u001b[0m\u001b[1;33m)\u001b[0m\u001b[1;33m)\u001b[0m\u001b[1;33m\u001b[0m\u001b[0m\n\u001b[1;32m---> 14\u001b[1;33m \u001b[0mbutton\u001b[0m\u001b[1;33m.\u001b[0m\u001b[0mjs_on_click\u001b[0m\u001b[1;33m(\u001b[0m\u001b[0mCustomJS\u001b[0m\u001b[1;33m(\u001b[0m\u001b[0mcode\u001b[0m\u001b[1;33m=\u001b[0m\u001b[1;34m\"console.log('button: click', this.toString())\"\u001b[0m\u001b[1;33m)\u001b[0m\u001b[1;33m)\u001b[0m\u001b[1;33m\u001b[0m\u001b[0m\n\u001b[0m\u001b[0;32m     15\u001b[0m \u001b[1;33m\u001b[0m\u001b[0m\n\u001b[0;32m     16\u001b[0m \u001b[0mbutton_disabled\u001b[0m \u001b[1;33m=\u001b[0m \u001b[0mButton\u001b[0m\u001b[1;33m(\u001b[0m\u001b[0mlabel\u001b[0m\u001b[1;33m=\u001b[0m\u001b[1;34m\"Button (disabled) - no click event\"\u001b[0m\u001b[1;33m,\u001b[0m \u001b[0mbutton_type\u001b[0m\u001b[1;33m=\u001b[0m\u001b[1;34m\"primary\"\u001b[0m\u001b[1;33m,\u001b[0m \u001b[0mdisabled\u001b[0m\u001b[1;33m=\u001b[0m\u001b[1;32mTrue\u001b[0m\u001b[1;33m)\u001b[0m\u001b[1;33m\u001b[0m\u001b[0m\n",
      "\u001b[1;31mAttributeError\u001b[0m: 'Button' object has no attribute 'js_on_click'"
     ]
    }
   ],
   "source": [
    "from __future__ import print_function\n",
    "\n",
    "from bokeh.client import push_session\n",
    "from bokeh.io import curdoc\n",
    "from bokeh.models import CustomJS\n",
    "from bokeh.models.layouts import WidgetBox\n",
    "from bokeh.models.widgets import (\n",
    "    Button, Toggle, Dropdown, CheckboxGroup, RadioGroup,\n",
    "    CheckboxButtonGroup, RadioButtonGroup,\n",
    ")\n",
    "\n",
    "button = Button(label=\"Button (enabled) - has click event\", button_type=\"primary\")\n",
    "button.on_click(lambda: print('button: click'))\n",
    "button.js_on_click(CustomJS(code=\"console.log('button: click', this.toString())\"))\n",
    "\n",
    "button_disabled = Button(label=\"Button (disabled) - no click event\", button_type=\"primary\", disabled=True)\n",
    "button_disabled.on_click(lambda: print('button_disabled: click'))\n",
    "button_disabled.js_on_click(CustomJS(code=\"console.log('button_disabled: click', this.toString())\"))\n",
    "\n",
    "toggle_inactive = Toggle(label=\"Toggle button (initially inactive)\", button_type=\"success\")\n",
    "toggle_inactive.on_click(lambda value: print('toggle_inactive: %s' % value))\n",
    "toggle_inactive.js_on_click(CustomJS(code=\"console.log('toggle_inactive: ' + this.active, this.toString())\"))\n",
    "\n",
    "toggle_active = Toggle(label=\"Toggle button (initially active)\", button_type=\"success\", active=True)\n",
    "toggle_active.on_click(lambda value: print('toggle_active: %s' % value))\n",
    "toggle_active.js_on_click(CustomJS(code=\"console.log('toggle_active: ' + this.active, this.toString())\"))\n",
    "\n",
    "menu = [(\"Item 1\", \"item_1_value\"), (\"Item 2\", \"item_2_value\"), None, (\"Item 3\", \"item_3_value\")]\n",
    "\n",
    "dropdown = Dropdown(label=\"Dropdown button\", button_type=\"warning\", menu=menu)\n",
    "dropdown.on_click(lambda value: print('dropdown: %s' % value))\n",
    "dropdown.js_on_click(CustomJS(code=\"console.log('dropdown: ' + this.value, this.toString())\"))\n",
    "\n",
    "dropdown_disabled = Dropdown(label=\"Dropdown button (disabled)\", button_type=\"warning\", menu=menu)\n",
    "dropdown_disabled.on_click(lambda value: print('dropdown_disabled: %s' % value))\n",
    "dropdown_disabled.js_on_click(CustomJS(code=\"console.log('dropdown_disabled: ' + this.value, this.toString())\"))\n",
    "\n",
    "#dropdown_split = Dropdown(label=\"Split button\", button_type=\"danger\", menu=menu, default_value=\"default\")\n",
    "#dropdown_split.on_click(lambda value: print('dropdown_split: %s' % value))\n",
    "#dropdown_split.js_on_click(CustomJS(code=\"console.log('dropdown_split: ' + this.value, this.toString())\"))\n",
    "\n",
    "checkbox_group = CheckboxGroup(labels=[\"Option 1\", \"Option 2\", \"Option 3\"], active=[0, 1])\n",
    "checkbox_group.on_click(lambda value: print('checkbox_group: %s' % value))\n",
    "checkbox_group.js_on_click(CustomJS(code=\"console.log('checkbox_group: ' + this.active, this.toString())\"))\n",
    "\n",
    "radio_group = RadioGroup(labels=[\"Option 1\", \"Option 2\", \"Option 3\"], active=0)\n",
    "radio_group.on_click(lambda value: print('radio_group: %s' % value))\n",
    "radio_group.js_on_click(CustomJS(code=\"console.log('radio_group: ' + this.active, this.toString())\"))\n",
    "\n",
    "checkbox_button_group = CheckboxButtonGroup(labels=[\"Option 1\", \"Option 2\", \"Option 3\"], active=[0, 1])\n",
    "checkbox_button_group.on_click(lambda value: print('checkbox_button_group: %s' % value))\n",
    "checkbox_button_group.js_on_click(CustomJS(code=\"console.log('checkbox_button_group: ' + this.active, this.toString())\"))\n",
    "\n",
    "radio_button_group = RadioButtonGroup(labels=[\"Option 1\", \"Option 2\", \"Option 3\"], active=0)\n",
    "radio_button_group.on_click(lambda value: print('radio_button_group: %s' % value))\n",
    "radio_button_group.js_on_click(CustomJS(code=\"console.log('radio_button_group: ' + this.active, this.toString())\"))\n",
    "\n",
    "widgetBox = WidgetBox(children=[\n",
    "    button, button_disabled,\n",
    "    toggle_inactive, toggle_active,\n",
    "    dropdown, dropdown_disabled, #dropdown_split,\n",
    "    checkbox_group, radio_group,\n",
    "    checkbox_button_group, radio_button_group,\n",
    "])\n",
    "\n",
    "document = curdoc()\n",
    "document.add_root(widgetBox)\n",
    "\n",
    "if __name__ == \"__main__\":\n",
    "    session = push_session(document)\n",
    "    session.show()\n",
    "    session.loop_until_closed()"
   ]
  },
  {
   "cell_type": "code",
   "execution_count": null,
   "metadata": {
    "collapsed": true
   },
   "outputs": [],
   "source": []
  }
 ],
 "metadata": {
  "kernelspec": {
   "display_name": "Python 3",
   "language": "python",
   "name": "python3"
  },
  "language_info": {
   "codemirror_mode": {
    "name": "ipython",
    "version": 3
   },
   "file_extension": ".py",
   "mimetype": "text/x-python",
   "name": "python",
   "nbconvert_exporter": "python",
   "pygments_lexer": "ipython3",
   "version": "3.6.1"
  }
 },
 "nbformat": 4,
 "nbformat_minor": 2
}
